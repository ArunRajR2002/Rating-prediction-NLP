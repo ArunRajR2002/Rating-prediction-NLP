{
 "cells": [
  {
   "cell_type": "markdown",
   "metadata": {},
   "source": [
    "# Analyzing Customer Sentiment and Performance of Quick Commerce Platforms"
   ]
  },
  {
   "cell_type": "markdown",
   "metadata": {},
   "source": [
    "## Project Description  \n",
    "\n",
    "This project focuses on analyzing customer reviews and ratings for three major quick commerce platforms—**BlinkIt, Zepto, and JioMart**. With the rapid rise of instant delivery services, user experience plays a crucial role in business sustainability. This dataset provides a unique opportunity to compare all three platforms based on customer sentiment and rating points.  \n",
    "\n",
    "### Key Objectives:  \n",
    "- **Compare platform performance** based on user ratings.   \n",
    "- **Analyze sentiment trends** across different platforms.   \n",
    "\n",
    "By leveraging **Natural Language Processing (NLP)** techniques such as sentiment analysis, keyword extraction, and topic modeling, we aim to extract meaningful insights from user feedback. This analysis will help quick commerce platforms understand their weaknesses, enhance customer satisfaction, and create a competitive edge in the growing market. "
   ]
  },
  {
   "cell_type": "markdown",
   "metadata": {},
   "source": [
    "## READING PROJECT FILE"
   ]
  },
  {
   "cell_type": "code",
   "execution_count": 1,
   "metadata": {},
   "outputs": [
    {
     "name": "stdout",
     "output_type": "stream",
     "text": [
      " rating             date                                                                                                                                                                                                                                                                                                                                                                                                                                                                                                                                                                                                                                                      review platform\n",
      "      2 30 December 2024                                                                                                                                                                                                        I was using it for long time, but have to stop using it because\\n                recently I got a used item and when I talked to support team\\n                they keep asking me for clearer image of product although the\\n                image was perfectly fine. They is no further option for help. I\\n                can't tolerate this kind of cheating and also the prices are\\n                also on higher side, compare to others.  blinkit\n",
      "      1  4 November 2024                                                                                                                               Loving the fast deliveries and mostly they are great. There is\\n                no other quick delivery agent in my area so I can't compare. I\\n                would have given 4 star but 1 star is because of the frustration\\n                for whenever there is an issue, you would end up getting\\n                frustrated with the customer care. Not really \"caring\" for their\\n                customers. But anyway, I'm stuck with them since I'm have no\\n                option to switch to someone else.  blinkit\n",
      "      1  31 October 2024                 The customer support is very disappointing. I recently bought\\n                some electronic products that arrived faulty. I’ve been trying\\n                to reach customer support, but my chat sessions keep getting\\n                disconnected with the message, \"we are currently experiencing a\\n                high volume of queries.\" Initially, I thought it was a one-time\\n                issue, but after 3-4 attempts, I received the same response. I\\n                then checked on my other, less expensive orders and found that\\n                customer care was readily available. BE CAREFUL WITH THIS AP  blinkit\n",
      "      5   29 August 2024 I've been using Blinkit for a while now, and it has become my\\n                go-to app for grocery shopping. The app is well-designed, easy\\n                to navigate, and offers a wide range of products. The best part?\\n                Super quick delivery, often within minutes! However, one area\\n                where Blinkit could take a leaf out of Swiggy's book is the\\n                delivery charges. While I appreciate the speed, the added\\n                delivery fee cn sometimes make small purchase option or a\\n                membership model like instamart would definitely elevate the\\n                experience  blinkit\n",
      "      2 31 December 2024                                                        Blinkit was my go to app and it was rare that it disappointed\\n                me,but today it has disappointed me on a large scale. I order\\n                items worth 340,the order was paid and after 20 mins they\\n                cancelled my order with 'items are out of stock' which was not\\n                earlier,the refund would be after 6 days and there is no room\\n                for complaint because they have closed the conversation \".\\n                Thankyou,blinkit,I would no further order from you again. Highly\\n                disappointed. Regards, Nivriti  blinkit\n"
     ]
    }
   ],
   "source": [
    "import pandas as pd\n",
    "\n",
    "df=pd.read_csv('reviews.csv')\n",
    "print(df.head().to_string(index=False))"
   ]
  },
  {
   "cell_type": "code",
   "execution_count": 2,
   "metadata": {},
   "outputs": [
    {
     "data": {
      "text/plain": [
       "1    3305\n",
       "5     623\n",
       "2     279\n",
       "4     225\n",
       "3     188\n",
       "Name: rating, dtype: int64"
      ]
     },
     "execution_count": 2,
     "metadata": {},
     "output_type": "execute_result"
    }
   ],
   "source": [
    "df['rating'].value_counts()"
   ]
  },
  {
   "cell_type": "markdown",
   "metadata": {},
   "source": [
    "## DROPPING UNWANTED COLUMNS"
   ]
  },
  {
   "cell_type": "code",
   "execution_count": 3,
   "metadata": {},
   "outputs": [
    {
     "name": "stdout",
     "output_type": "stream",
     "text": [
      " rating                                                                                                                                                                                                                                                                                                                                                                                                                                                                                                                                                                                                                                                      review platform\n",
      "      2                                                                                                                                                                                                        I was using it for long time, but have to stop using it because\\n                recently I got a used item and when I talked to support team\\n                they keep asking me for clearer image of product although the\\n                image was perfectly fine. They is no further option for help. I\\n                can't tolerate this kind of cheating and also the prices are\\n                also on higher side, compare to others.  blinkit\n",
      "      1                                                                                                                               Loving the fast deliveries and mostly they are great. There is\\n                no other quick delivery agent in my area so I can't compare. I\\n                would have given 4 star but 1 star is because of the frustration\\n                for whenever there is an issue, you would end up getting\\n                frustrated with the customer care. Not really \"caring\" for their\\n                customers. But anyway, I'm stuck with them since I'm have no\\n                option to switch to someone else.  blinkit\n",
      "      1                 The customer support is very disappointing. I recently bought\\n                some electronic products that arrived faulty. I’ve been trying\\n                to reach customer support, but my chat sessions keep getting\\n                disconnected with the message, \"we are currently experiencing a\\n                high volume of queries.\" Initially, I thought it was a one-time\\n                issue, but after 3-4 attempts, I received the same response. I\\n                then checked on my other, less expensive orders and found that\\n                customer care was readily available. BE CAREFUL WITH THIS AP  blinkit\n",
      "      5 I've been using Blinkit for a while now, and it has become my\\n                go-to app for grocery shopping. The app is well-designed, easy\\n                to navigate, and offers a wide range of products. The best part?\\n                Super quick delivery, often within minutes! However, one area\\n                where Blinkit could take a leaf out of Swiggy's book is the\\n                delivery charges. While I appreciate the speed, the added\\n                delivery fee cn sometimes make small purchase option or a\\n                membership model like instamart would definitely elevate the\\n                experience  blinkit\n",
      "      2                                                        Blinkit was my go to app and it was rare that it disappointed\\n                me,but today it has disappointed me on a large scale. I order\\n                items worth 340,the order was paid and after 20 mins they\\n                cancelled my order with 'items are out of stock' which was not\\n                earlier,the refund would be after 6 days and there is no room\\n                for complaint because they have closed the conversation \".\\n                Thankyou,blinkit,I would no further order from you again. Highly\\n                disappointed. Regards, Nivriti  blinkit\n"
     ]
    }
   ],
   "source": [
    "df=df.drop(columns=\"date\")\n",
    "print(df.head().to_string(index=False))"
   ]
  },
  {
   "cell_type": "markdown",
   "metadata": {},
   "source": [
    "## Now we do some EDA on this dataset for better understanding the dataset."
   ]
  },
  {
   "cell_type": "code",
   "execution_count": 4,
   "metadata": {},
   "outputs": [
    {
     "data": {
      "text/html": [
       "<div>\n",
       "<style scoped>\n",
       "    .dataframe tbody tr th:only-of-type {\n",
       "        vertical-align: middle;\n",
       "    }\n",
       "\n",
       "    .dataframe tbody tr th {\n",
       "        vertical-align: top;\n",
       "    }\n",
       "\n",
       "    .dataframe thead th {\n",
       "        text-align: right;\n",
       "    }\n",
       "</style>\n",
       "<table border=\"1\" class=\"dataframe\">\n",
       "  <thead>\n",
       "    <tr style=\"text-align: right;\">\n",
       "      <th></th>\n",
       "      <th>rating</th>\n",
       "    </tr>\n",
       "  </thead>\n",
       "  <tbody>\n",
       "    <tr>\n",
       "      <th>count</th>\n",
       "      <td>4620.000000</td>\n",
       "    </tr>\n",
       "    <tr>\n",
       "      <th>mean</th>\n",
       "      <td>1.827273</td>\n",
       "    </tr>\n",
       "    <tr>\n",
       "      <th>std</th>\n",
       "      <td>1.461208</td>\n",
       "    </tr>\n",
       "    <tr>\n",
       "      <th>min</th>\n",
       "      <td>1.000000</td>\n",
       "    </tr>\n",
       "    <tr>\n",
       "      <th>25%</th>\n",
       "      <td>1.000000</td>\n",
       "    </tr>\n",
       "    <tr>\n",
       "      <th>50%</th>\n",
       "      <td>1.000000</td>\n",
       "    </tr>\n",
       "    <tr>\n",
       "      <th>75%</th>\n",
       "      <td>2.000000</td>\n",
       "    </tr>\n",
       "    <tr>\n",
       "      <th>max</th>\n",
       "      <td>5.000000</td>\n",
       "    </tr>\n",
       "  </tbody>\n",
       "</table>\n",
       "</div>"
      ],
      "text/plain": [
       "            rating\n",
       "count  4620.000000\n",
       "mean      1.827273\n",
       "std       1.461208\n",
       "min       1.000000\n",
       "25%       1.000000\n",
       "50%       1.000000\n",
       "75%       2.000000\n",
       "max       5.000000"
      ]
     },
     "execution_count": 4,
     "metadata": {},
     "output_type": "execute_result"
    }
   ],
   "source": [
    "df.describe()"
   ]
  },
  {
   "cell_type": "code",
   "execution_count": 5,
   "metadata": {},
   "outputs": [
    {
     "name": "stdout",
     "output_type": "stream",
     "text": [
      "<class 'pandas.core.frame.DataFrame'>\n",
      "RangeIndex: 4620 entries, 0 to 4619\n",
      "Data columns (total 3 columns):\n",
      " #   Column    Non-Null Count  Dtype \n",
      "---  ------    --------------  ----- \n",
      " 0   rating    4620 non-null   int64 \n",
      " 1   review    4620 non-null   object\n",
      " 2   platform  4620 non-null   object\n",
      "dtypes: int64(1), object(2)\n",
      "memory usage: 108.4+ KB\n"
     ]
    }
   ],
   "source": [
    "df.info()"
   ]
  },
  {
   "cell_type": "code",
   "execution_count": 6,
   "metadata": {},
   "outputs": [
    {
     "name": "stdout",
     "output_type": "stream",
     "text": [
      "rating      0\n",
      "review      0\n",
      "platform    0\n",
      "dtype: int64\n"
     ]
    }
   ],
   "source": [
    "print(df.isnull().sum())"
   ]
  },
  {
   "cell_type": "markdown",
   "metadata": {},
   "source": [
    "## DETECTING NON-ENGLISH COMMENTS"
   ]
  },
  {
   "cell_type": "code",
   "execution_count": 7,
   "metadata": {},
   "outputs": [
    {
     "name": "stdout",
     "output_type": "stream",
     "text": [
      "Total non-English comments: 2\n"
     ]
    }
   ],
   "source": [
    "from langdetect import detect\n",
    "\n",
    "def is_english(text):\n",
    "    try:\n",
    "        return detect(text) == 'en'  \n",
    "    except:\n",
    "        return False \n",
    "\n",
    "df_non_english = df[~df['review'].apply(is_english)]  \n",
    "df_english = df[df['review'].apply(is_english)]  \n",
    "\n",
    "print(f\"Total non-English comments: {len(df_non_english)}\") "
   ]
  },
  {
   "cell_type": "code",
   "execution_count": 8,
   "metadata": {},
   "outputs": [],
   "source": [
    "df=df_english"
   ]
  },
  {
   "cell_type": "markdown",
   "metadata": {},
   "source": [
    "## REMOVING PUNCTUATIONS & EMOJIS"
   ]
  },
  {
   "cell_type": "code",
   "execution_count": 9,
   "metadata": {},
   "outputs": [
    {
     "name": "stdout",
     "output_type": "stream",
     "text": [
      "   rating                                             review platform\n",
      "0       2  I was using it for long time but have to stop ...  blinkit\n",
      "1       1  Loving the fast deliveries and mostly they are...  blinkit\n",
      "2       1  The customer support is very disappointing I r...  blinkit\n",
      "3       5  Ive been using Blinkit for a while now and it ...  blinkit\n",
      "4       2  Blinkit was my go to app and it was rare that ...  blinkit\n"
     ]
    }
   ],
   "source": [
    "import re\n",
    "\n",
    "\n",
    "def clean_text(text):\n",
    "    text = re.sub(r'[^\\w\\s]', '', text) \n",
    "    return text\n",
    "\n",
    "df['review'] = df['review'].apply(clean_text)\n",
    "\n",
    "print(df.head()) "
   ]
  },
  {
   "cell_type": "markdown",
   "metadata": {},
   "source": [
    "## LOWERING COMMENTS"
   ]
  },
  {
   "cell_type": "code",
   "execution_count": 10,
   "metadata": {},
   "outputs": [
    {
     "name": "stdout",
     "output_type": "stream",
     "text": [
      "   rating                                             review platform\n",
      "0       2  i was using it for long time but have to stop ...  blinkit\n",
      "1       1  loving the fast deliveries and mostly they are...  blinkit\n",
      "2       1  the customer support is very disappointing i r...  blinkit\n",
      "3       5  ive been using blinkit for a while now and it ...  blinkit\n",
      "4       2  blinkit was my go to app and it was rare that ...  blinkit\n"
     ]
    }
   ],
   "source": [
    "df['review']=df['review'].str.lower()\n",
    "print(df.head())"
   ]
  },
  {
   "cell_type": "markdown",
   "metadata": {},
   "source": [
    "## REMOVING STOPWORDS"
   ]
  },
  {
   "cell_type": "code",
   "execution_count": 11,
   "metadata": {},
   "outputs": [
    {
     "name": "stderr",
     "output_type": "stream",
     "text": [
      "[nltk_data] Downloading package stopwords to\n",
      "[nltk_data]     C:\\Users\\sunit\\AppData\\Roaming\\nltk_data...\n",
      "[nltk_data]   Package stopwords is already up-to-date!\n",
      "[nltk_data] Downloading package wordnet to\n",
      "[nltk_data]     C:\\Users\\sunit\\AppData\\Roaming\\nltk_data...\n",
      "[nltk_data]   Package wordnet is already up-to-date!\n",
      "[nltk_data] Downloading package punkt to\n",
      "[nltk_data]     C:\\Users\\sunit\\AppData\\Roaming\\nltk_data...\n",
      "[nltk_data]   Package punkt is already up-to-date!\n"
     ]
    },
    {
     "name": "stdout",
     "output_type": "stream",
     "text": [
      "   rating                                             review platform\n",
      "0       2  using long time stop using recently got used i...  blinkit\n",
      "1       1  loving fast delivery mostly great quick delive...  blinkit\n",
      "2       1  customer support disappointing recently bought...  blinkit\n",
      "3       5  ive using blinkit become goto app grocery shop...  blinkit\n",
      "4       2  blinkit go app rare disappointed mebut today d...  blinkit\n"
     ]
    }
   ],
   "source": [
    "import nltk\n",
    "from nltk.corpus import stopwords\n",
    "from nltk.stem import WordNetLemmatizer\n",
    "nltk.download('stopwords')\n",
    "nltk.download('wordnet')\n",
    "nltk.download('punkt')\n",
    "\n",
    "lemmatizer = WordNetLemmatizer()\n",
    "\n",
    "stop_words = set(stopwords.words('english'))\n",
    "\n",
    "stop_words.discard('not') \n",
    "\n",
    "def clean_text(text):\n",
    "    words = nltk.word_tokenize(text)\n",
    "    cleaned_words = [\n",
    "        lemmatizer.lemmatize(word) for word in words if word not in stop_words and word.isalpha()\n",
    "    ]\n",
    "    return ' '.join(cleaned_words)\n",
    "\n",
    "df['review'] = df['review'].apply(clean_text)\n",
    "\n",
    "print(df.head())"
   ]
  },
  {
   "cell_type": "code",
   "execution_count": 12,
   "metadata": {},
   "outputs": [
    {
     "name": "stdout",
     "output_type": "stream",
     "text": [
      "0\n"
     ]
    }
   ],
   "source": [
    "print(df['platform'].isna().sum())\n"
   ]
  },
  {
   "cell_type": "code",
   "execution_count": 13,
   "metadata": {},
   "outputs": [
    {
     "name": "stdout",
     "output_type": "stream",
     "text": [
      "3\n"
     ]
    }
   ],
   "source": [
    "print(df['platform'].nunique())\n"
   ]
  },
  {
   "cell_type": "markdown",
   "metadata": {},
   "source": [
    "## ENCODING"
   ]
  },
  {
   "cell_type": "code",
   "execution_count": 14,
   "metadata": {},
   "outputs": [
    {
     "name": "stdout",
     "output_type": "stream",
     "text": [
      "(4618, 4)\n"
     ]
    }
   ],
   "source": [
    "from sklearn.preprocessing import OneHotEncoder\n",
    "from sklearn.compose import ColumnTransformer\n",
    "\n",
    "df['platform'] = df['platform'].fillna(\"Unknown\") \n",
    "ct = ColumnTransformer(\n",
    "    transformers=[\n",
    "        ('platform', OneHotEncoder(drop='first', handle_unknown='ignore'), ['platform'])\n",
    "    ], remainder='passthrough'\n",
    ")\n",
    "X_platform = ct.fit_transform(df)\n",
    "\n",
    "print(X_platform.shape) \n"
   ]
  },
  {
   "cell_type": "markdown",
   "metadata": {},
   "source": [
    "## TOKENIZING"
   ]
  },
  {
   "cell_type": "code",
   "execution_count": 15,
   "metadata": {},
   "outputs": [
    {
     "name": "stdout",
     "output_type": "stream",
     "text": [
      "Total unique words: 8280\n",
      "Words kept: 2000\n"
     ]
    }
   ],
   "source": [
    "from tensorflow.keras.preprocessing.text import Tokenizer\n",
    "vocab_size = 2000  \n",
    "tokenizer = Tokenizer(num_words=vocab_size, oov_token=\"<OOV>\")\n",
    "tokenizer.fit_on_texts(df['review'])\n",
    "X_tokens = tokenizer.texts_to_sequences(df['review'])\n",
    "print(f\"Total unique words: {len(tokenizer.word_index)}\")  \n",
    "print(f\"Words kept: {vocab_size}\")  "
   ]
  },
  {
   "cell_type": "markdown",
   "metadata": {},
   "source": [
    "## FINDING FREQUENCY"
   ]
  },
  {
   "cell_type": "code",
   "execution_count": 16,
   "metadata": {},
   "outputs": [
    {
     "name": "stdout",
     "output_type": "stream",
     "text": [
      "             Word  Frequency\n",
      "0   clarification          5\n",
      "1         chennai          5\n",
      "2            gate          5\n",
      "3         chilled          5\n",
      "4           forum          5\n",
      "5         million          5\n",
      "6        relative          5\n",
      "7           white          5\n",
      "8         urgency          5\n",
      "9       alternate          5\n",
      "10         travel          5\n",
      "11       attached          5\n",
      "12        recived          5\n",
      "13         slowly          5\n",
      "14     reflecting          5\n",
      "15       speaking          5\n",
      "16         bhopal          5\n",
      "17       costlier          5\n",
      "18          theme          5\n",
      "19            wil          5\n"
     ]
    }
   ],
   "source": [
    "word_counts = tokenizer.word_counts \n",
    "sorted_word_counts = sorted(word_counts.items(), key=lambda x: x[1], reverse=True) \n",
    "excluded_words = sorted_word_counts[vocab_size:] \n",
    "import pandas as pd\n",
    "df_excluded = pd.DataFrame(excluded_words, columns=['Word', 'Frequency'])\n",
    "print(df_excluded.head(20))"
   ]
  },
  {
   "cell_type": "markdown",
   "metadata": {},
   "source": [
    "## ZERO PADDING"
   ]
  },
  {
   "cell_type": "code",
   "execution_count": 17,
   "metadata": {},
   "outputs": [
    {
     "name": "stdout",
     "output_type": "stream",
     "text": [
      "Max comment length: 62\n",
      "Average comment length: 29.30272845387614\n",
      "90th percentile length: 46.0\n"
     ]
    }
   ],
   "source": [
    "import numpy as np\n",
    "from tensorflow.keras.preprocessing.sequence import pad_sequences\n",
    "comment_lengths = [len(seq) for seq in X_tokens]\n",
    "print(f\"Max comment length: {np.max(comment_lengths)}\")\n",
    "print(f\"Average comment length: {np.mean(comment_lengths)}\")\n",
    "print(f\"90th percentile length: {np.percentile(comment_lengths, 90)}\")"
   ]
  },
  {
   "cell_type": "code",
   "execution_count": 18,
   "metadata": {},
   "outputs": [
    {
     "name": "stdout",
     "output_type": "stream",
     "text": [
      "Padded sequences shape: (4618, 46)\n"
     ]
    }
   ],
   "source": [
    "maxlen = 46 \n",
    "X_padded = pad_sequences(X_tokens, maxlen=maxlen, padding='post', truncating='post')\n",
    "print(f\"Padded sequences shape: {X_padded.shape}\")"
   ]
  },
  {
   "cell_type": "code",
   "execution_count": 19,
   "metadata": {},
   "outputs": [],
   "source": [
    "X_padded_df = pd.DataFrame(X_padded, index=df.index)  \n",
    "X_platform_df = pd.DataFrame(X_platform, index=df.index) \n",
    "df_new = pd.concat([X_padded_df, X_platform_df], axis=1)"
   ]
  },
  {
   "cell_type": "code",
   "execution_count": 20,
   "metadata": {},
   "outputs": [
    {
     "name": "stdout",
     "output_type": "stream",
     "text": [
      "     0    1    2     3     4     5    6    7     8     9    10   11   12   13   14    15   16   17    18    19    20    21   22    23   24    25    26   27    28   29    30   31    32   33    34   35   36   37    38   39   40    41  42   43   44   45\n",
      "0    74  267    9   433    74   221   39  122     8   973   18   75   99  314    1   420    7  767   420  1330   561    25  110    47    1   319   462   17    59   17   361  405   792  421     0    0    0    0     0    0    0     0   0    0    0    0\n",
      "1  1759  106    5   692   142   170    5  138   255    47  792   71  174  125  125   974  348   21    71   289   114   512    6    33    4    76     1    6  1331  108   362  153   108   25  1008  468  395    0     0    0    0     0   0    0    0    0\n",
      "2     6   18  172   221   495   655    7  390  1105   150  202  329    6   18   84     1   99  114  1144   185   847  1249  159  1507  513   463   634    1    21  768    48  102   593  222   479    2  375    6    33    1   36   679   1    0    0    0\n",
      "3   150   74   28   514  1196     3   42  117     3     1  208  769  103  667  447     7  140  422   248   170     5   450  112    49  249    29   255   28   224   54  1508    1  1145    5    46  594  480  184     5  165    1   237  85  434  175   25\n",
      "4    28   95    3  1760   118     1  167  118  1146  1619    2    8  307    2  198    73   58    2     8   132     4     1   19    71   26  1921    94  442  1147    1    71    2   308  118  1332    1    0    0     0    0    0     0   0    0    0    0\n",
      "5    52    2    1   151    28   514  464    6   148    22   72    7   22  570  161  1761    5  141  1762     5   352  1250  170   668    1    71    40  232   154  421    95  349    22  481     0    0    0    0     0    0    0     0   0    0    0    0\n",
      "6   281   13   28    20     8  1333   48   29     8   222  309  205   21   28   18  1009   71  259   112   119   249    15  469    26  290   191    85  406   482  442   299   60   562   21    47  353  300  848  1251  183  172  1922  71    4  154  358\n",
      "7  1106    8  655     8    64   214   46  260   165     7   24    4  693  694   35   579  819  250   337    71    38   465  443    42  105    18   212   36   868   21     0    0     0    0     0    0    0    0     0    0    0     0   0    0    0    0\n",
      "8  1923    2   40   901   489   179   19  363  1334    16  580   41   29   95  710     4    1  931     1   387  1763   902    1     1  226     6  1924  503     1  364    78    1   126  301     0    0    0    0     0    0    0     0   0    0    0    0\n",
      "9   237   35  819     7    34   611  869  237    37    55    8  184  124  849   56  1509   55    8     4    36    12   103   50     3  571   126   540    6     0    0     0    0     0    0     0    0    0    0     0    0    0     0   0    0    0    0\n"
     ]
    }
   ],
   "source": [
    "print(pd.DataFrame(X_padded).head(10).to_string())"
   ]
  },
  {
   "cell_type": "markdown",
   "metadata": {},
   "source": [
    "## BUILDING MODEL"
   ]
  },
  {
   "cell_type": "code",
   "execution_count": 21,
   "metadata": {},
   "outputs": [],
   "source": [
    "from tensorflow.keras.models import Sequential\n",
    "from tensorflow.keras.layers import Embedding, GRU, Dense, Dropout\n",
    "from tensorflow.keras.optimizers import Adam\n",
    "\n",
    "def build_model(vocab_size, embedding_dim=100, max_length=50):\n",
    "    model = Sequential()\n",
    "    model.add(Embedding(input_dim=vocab_size, output_dim=embedding_dim, input_length=max_length))\n",
    "    model.add(GRU(128, return_sequences=False)) \n",
    "    model.add(Dropout(0.2))\n",
    "    model.add(Dense(64, activation='relu'))\n",
    "    model.add(Dense(5, activation='softmax'))\n",
    "    model.compile(loss='categorical_crossentropy', optimizer=Adam(), metrics=['accuracy'])\n",
    "    \n",
    "    return model"
   ]
  },
  {
   "cell_type": "code",
   "execution_count": 22,
   "metadata": {},
   "outputs": [
    {
     "data": {
      "text/html": [
       "<div>\n",
       "<style scoped>\n",
       "    .dataframe tbody tr th:only-of-type {\n",
       "        vertical-align: middle;\n",
       "    }\n",
       "\n",
       "    .dataframe tbody tr th {\n",
       "        vertical-align: top;\n",
       "    }\n",
       "\n",
       "    .dataframe thead th {\n",
       "        text-align: right;\n",
       "    }\n",
       "</style>\n",
       "<table border=\"1\" class=\"dataframe\">\n",
       "  <thead>\n",
       "    <tr style=\"text-align: right;\">\n",
       "      <th></th>\n",
       "      <th>rating</th>\n",
       "      <th>review</th>\n",
       "      <th>platform</th>\n",
       "    </tr>\n",
       "  </thead>\n",
       "  <tbody>\n",
       "    <tr>\n",
       "      <th>0</th>\n",
       "      <td>2</td>\n",
       "      <td>using long time stop using recently got used i...</td>\n",
       "      <td>blinkit</td>\n",
       "    </tr>\n",
       "    <tr>\n",
       "      <th>1</th>\n",
       "      <td>1</td>\n",
       "      <td>loving fast delivery mostly great quick delive...</td>\n",
       "      <td>blinkit</td>\n",
       "    </tr>\n",
       "    <tr>\n",
       "      <th>2</th>\n",
       "      <td>1</td>\n",
       "      <td>customer support disappointing recently bought...</td>\n",
       "      <td>blinkit</td>\n",
       "    </tr>\n",
       "    <tr>\n",
       "      <th>3</th>\n",
       "      <td>5</td>\n",
       "      <td>ive using blinkit become goto app grocery shop...</td>\n",
       "      <td>blinkit</td>\n",
       "    </tr>\n",
       "    <tr>\n",
       "      <th>4</th>\n",
       "      <td>2</td>\n",
       "      <td>blinkit go app rare disappointed mebut today d...</td>\n",
       "      <td>blinkit</td>\n",
       "    </tr>\n",
       "    <tr>\n",
       "      <th>...</th>\n",
       "      <td>...</td>\n",
       "      <td>...</td>\n",
       "      <td>...</td>\n",
       "    </tr>\n",
       "    <tr>\n",
       "      <th>4615</th>\n",
       "      <td>1</td>\n",
       "      <td>deposited zepto wallet order watch depositing ...</td>\n",
       "      <td>zepto</td>\n",
       "    </tr>\n",
       "    <tr>\n",
       "      <th>4616</th>\n",
       "      <td>4</td>\n",
       "      <td>price r competitive certain item not packing g...</td>\n",
       "      <td>zepto</td>\n",
       "    </tr>\n",
       "    <tr>\n",
       "      <th>4617</th>\n",
       "      <td>1</td>\n",
       "      <td>worst delivery ever delivered broken product s...</td>\n",
       "      <td>zepto</td>\n",
       "    </tr>\n",
       "    <tr>\n",
       "      <th>4618</th>\n",
       "      <td>5</td>\n",
       "      <td>great experience zepto quality level faster de...</td>\n",
       "      <td>zepto</td>\n",
       "    </tr>\n",
       "    <tr>\n",
       "      <th>4619</th>\n",
       "      <td>1</td>\n",
       "      <td>worst possible delivery app ever not let cance...</td>\n",
       "      <td>zepto</td>\n",
       "    </tr>\n",
       "  </tbody>\n",
       "</table>\n",
       "<p>4618 rows × 3 columns</p>\n",
       "</div>"
      ],
      "text/plain": [
       "      rating                                             review platform\n",
       "0          2  using long time stop using recently got used i...  blinkit\n",
       "1          1  loving fast delivery mostly great quick delive...  blinkit\n",
       "2          1  customer support disappointing recently bought...  blinkit\n",
       "3          5  ive using blinkit become goto app grocery shop...  blinkit\n",
       "4          2  blinkit go app rare disappointed mebut today d...  blinkit\n",
       "...      ...                                                ...      ...\n",
       "4615       1  deposited zepto wallet order watch depositing ...    zepto\n",
       "4616       4  price r competitive certain item not packing g...    zepto\n",
       "4617       1  worst delivery ever delivered broken product s...    zepto\n",
       "4618       5  great experience zepto quality level faster de...    zepto\n",
       "4619       1  worst possible delivery app ever not let cance...    zepto\n",
       "\n",
       "[4618 rows x 3 columns]"
      ]
     },
     "execution_count": 22,
     "metadata": {},
     "output_type": "execute_result"
    }
   ],
   "source": [
    "df"
   ]
  },
  {
   "cell_type": "markdown",
   "metadata": {},
   "source": [
    "## DEFINING TRAINING AND TESTING DATA"
   ]
  },
  {
   "cell_type": "code",
   "execution_count": 23,
   "metadata": {},
   "outputs": [],
   "source": [
    "from sklearn.model_selection import train_test_split\n",
    "from tensorflow.keras.utils import to_categorical \n",
    "X = df_new   \n",
    "y = df['rating'] - 1  \n",
    "y = to_categorical(y, num_classes=5)\n"
   ]
  },
  {
   "cell_type": "code",
   "execution_count": 24,
   "metadata": {},
   "outputs": [
    {
     "name": "stdout",
     "output_type": "stream",
     "text": [
      "Resampled train shape: (13235, 50) (13235, 5)\n",
      "Test set shape: (924, 50) (924, 5)\n"
     ]
    }
   ],
   "source": [
    "import numpy as np\n",
    "import pandas as pd\n",
    "from sklearn.model_selection import train_test_split\n",
    "from tensorflow.keras.utils import to_categorical\n",
    "from imblearn.over_sampling import SMOTE\n",
    "from sklearn.preprocessing import LabelEncoder\n",
    "X_padded_df = X_padded_df.astype(np.float32)  \n",
    "for col in X_platform_df.select_dtypes(include=['object']).columns:\n",
    "    le = LabelEncoder()\n",
    "    X_platform_df[col] = le.fit_transform(X_platform_df[col])\n",
    "\n",
    "X_platform_df = X_platform_df.astype(np.float32) \n",
    "\n",
    "df_new = pd.concat([X_padded_df, X_platform_df], axis=1)\n",
    "\n",
    "X = df_new.to_numpy(dtype=np.float32)\n",
    "\n",
    "y = df['rating'].values - 1  \n",
    "\n",
    "y = to_categorical(y, num_classes=5)\n",
    "\n",
    "X_train, X_test, y_train, y_test = train_test_split(X, y, test_size=0.2, random_state=42)\n",
    "y_train_int = np.argmax(y_train, axis=1)\n",
    "\n",
    "smote = SMOTE(random_state=42)\n",
    "X_resampled, y_resampled = smote.fit_resample(X_train, y_train_int)\n",
    "y_resampled = to_categorical(y_resampled, num_classes=5)\n",
    "\n",
    "print(\"Resampled train shape:\", X_resampled.shape, y_resampled.shape)\n",
    "print(\"Test set shape:\", X_test.shape, y_test.shape)\n"
   ]
  },
  {
   "cell_type": "code",
   "execution_count": 25,
   "metadata": {},
   "outputs": [
    {
     "name": "stdout",
     "output_type": "stream",
     "text": [
      "Epoch 1/10\n"
     ]
    },
    {
     "name": "stderr",
     "output_type": "stream",
     "text": [
      "c:\\Users\\sunit\\anaconda3\\lib\\site-packages\\keras\\src\\layers\\core\\embedding.py:90: UserWarning: Argument `input_length` is deprecated. Just remove it.\n",
      "  warnings.warn(\n"
     ]
    },
    {
     "name": "stdout",
     "output_type": "stream",
     "text": [
      "\u001b[1m116/116\u001b[0m \u001b[32m━━━━━━━━━━━━━━━━━━━━\u001b[0m\u001b[37m\u001b[0m \u001b[1m8s\u001b[0m 45ms/step - accuracy: 0.7479 - loss: 0.8422 - val_accuracy: 0.9978 - val_loss: 0.0359\n",
      "Epoch 2/10\n",
      "\u001b[1m116/116\u001b[0m \u001b[32m━━━━━━━━━━━━━━━━━━━━\u001b[0m\u001b[37m\u001b[0m \u001b[1m5s\u001b[0m 41ms/step - accuracy: 0.9989 - loss: 0.0116 - val_accuracy: 0.9989 - val_loss: 0.0045\n",
      "Epoch 3/10\n",
      "\u001b[1m116/116\u001b[0m \u001b[32m━━━━━━━━━━━━━━━━━━━━\u001b[0m\u001b[37m\u001b[0m \u001b[1m5s\u001b[0m 43ms/step - accuracy: 1.0000 - loss: 0.0010 - val_accuracy: 0.9989 - val_loss: 0.0047\n",
      "Epoch 4/10\n",
      "\u001b[1m116/116\u001b[0m \u001b[32m━━━━━━━━━━━━━━━━━━━━\u001b[0m\u001b[37m\u001b[0m \u001b[1m5s\u001b[0m 44ms/step - accuracy: 1.0000 - loss: 3.4788e-04 - val_accuracy: 0.9989 - val_loss: 0.0043\n",
      "Epoch 5/10\n",
      "\u001b[1m116/116\u001b[0m \u001b[32m━━━━━━━━━━━━━━━━━━━━\u001b[0m\u001b[37m\u001b[0m \u001b[1m5s\u001b[0m 44ms/step - accuracy: 1.0000 - loss: 2.3983e-04 - val_accuracy: 0.9989 - val_loss: 0.0044\n",
      "Epoch 6/10\n",
      "\u001b[1m116/116\u001b[0m \u001b[32m━━━━━━━━━━━━━━━━━━━━\u001b[0m\u001b[37m\u001b[0m \u001b[1m5s\u001b[0m 42ms/step - accuracy: 1.0000 - loss: 1.6468e-04 - val_accuracy: 0.9989 - val_loss: 0.0049\n",
      "Epoch 7/10\n",
      "\u001b[1m116/116\u001b[0m \u001b[32m━━━━━━━━━━━━━━━━━━━━\u001b[0m\u001b[37m\u001b[0m \u001b[1m5s\u001b[0m 43ms/step - accuracy: 1.0000 - loss: 1.1192e-04 - val_accuracy: 0.9989 - val_loss: 0.0048\n",
      "Epoch 8/10\n",
      "\u001b[1m116/116\u001b[0m \u001b[32m━━━━━━━━━━━━━━━━━━━━\u001b[0m\u001b[37m\u001b[0m \u001b[1m5s\u001b[0m 42ms/step - accuracy: 1.0000 - loss: 7.9451e-05 - val_accuracy: 0.9989 - val_loss: 0.0047\n",
      "Epoch 9/10\n",
      "\u001b[1m116/116\u001b[0m \u001b[32m━━━━━━━━━━━━━━━━━━━━\u001b[0m\u001b[37m\u001b[0m \u001b[1m5s\u001b[0m 41ms/step - accuracy: 1.0000 - loss: 6.9216e-05 - val_accuracy: 0.9989 - val_loss: 0.0050\n",
      "Epoch 10/10\n",
      "\u001b[1m116/116\u001b[0m \u001b[32m━━━━━━━━━━━━━━━━━━━━\u001b[0m\u001b[37m\u001b[0m \u001b[1m5s\u001b[0m 43ms/step - accuracy: 1.0000 - loss: 5.3959e-05 - val_accuracy: 0.9989 - val_loss: 0.0047\n"
     ]
    }
   ],
   "source": [
    "vocab_size = 10000\n",
    "embedding_dim = 100\n",
    "max_length = 50\n",
    "model = build_model(vocab_size, embedding_dim, max_length)\n",
    "history = model.fit(\n",
    "    X_train, y_train, \n",
    "    epochs=10, \n",
    "    batch_size=32, \n",
    "    validation_data=(X_test, y_test)\n",
    ")\n"
   ]
  },
  {
   "cell_type": "code",
   "execution_count": 26,
   "metadata": {},
   "outputs": [
    {
     "name": "stdout",
     "output_type": "stream",
     "text": [
      "Epoch 1/10\n",
      "\u001b[1m116/116\u001b[0m \u001b[32m━━━━━━━━━━━━━━━━━━━━\u001b[0m\u001b[37m\u001b[0m \u001b[1m5s\u001b[0m 43ms/step - accuracy: 1.0000 - loss: 5.3646e-05 - val_accuracy: 0.9989 - val_loss: 0.0049\n",
      "Epoch 2/10\n",
      "\u001b[1m116/116\u001b[0m \u001b[32m━━━━━━━━━━━━━━━━━━━━\u001b[0m\u001b[37m\u001b[0m \u001b[1m5s\u001b[0m 43ms/step - accuracy: 1.0000 - loss: 5.1101e-05 - val_accuracy: 0.9989 - val_loss: 0.0051\n",
      "Epoch 3/10\n",
      "\u001b[1m116/116\u001b[0m \u001b[32m━━━━━━━━━━━━━━━━━━━━\u001b[0m\u001b[37m\u001b[0m \u001b[1m5s\u001b[0m 45ms/step - accuracy: 1.0000 - loss: 2.7970e-05 - val_accuracy: 0.9989 - val_loss: 0.0054\n",
      "Epoch 4/10\n",
      "\u001b[1m116/116\u001b[0m \u001b[32m━━━━━━━━━━━━━━━━━━━━\u001b[0m\u001b[37m\u001b[0m \u001b[1m5s\u001b[0m 42ms/step - accuracy: 1.0000 - loss: 2.6062e-05 - val_accuracy: 0.9989 - val_loss: 0.0055\n",
      "Epoch 5/10\n",
      "\u001b[1m116/116\u001b[0m \u001b[32m━━━━━━━━━━━━━━━━━━━━\u001b[0m\u001b[37m\u001b[0m \u001b[1m5s\u001b[0m 45ms/step - accuracy: 1.0000 - loss: 2.5492e-05 - val_accuracy: 0.9989 - val_loss: 0.0057\n",
      "Epoch 6/10\n",
      "\u001b[1m116/116\u001b[0m \u001b[32m━━━━━━━━━━━━━━━━━━━━\u001b[0m\u001b[37m\u001b[0m \u001b[1m5s\u001b[0m 43ms/step - accuracy: 1.0000 - loss: 1.9325e-05 - val_accuracy: 0.9989 - val_loss: 0.0057\n",
      "Epoch 7/10\n",
      "\u001b[1m116/116\u001b[0m \u001b[32m━━━━━━━━━━━━━━━━━━━━\u001b[0m\u001b[37m\u001b[0m \u001b[1m5s\u001b[0m 44ms/step - accuracy: 1.0000 - loss: 1.8571e-05 - val_accuracy: 0.9989 - val_loss: 0.0058\n",
      "Epoch 8/10\n",
      "\u001b[1m116/116\u001b[0m \u001b[32m━━━━━━━━━━━━━━━━━━━━\u001b[0m\u001b[37m\u001b[0m \u001b[1m5s\u001b[0m 44ms/step - accuracy: 1.0000 - loss: 1.6458e-05 - val_accuracy: 0.9989 - val_loss: 0.0054\n",
      "Epoch 9/10\n",
      "\u001b[1m116/116\u001b[0m \u001b[32m━━━━━━━━━━━━━━━━━━━━\u001b[0m\u001b[37m\u001b[0m \u001b[1m5s\u001b[0m 43ms/step - accuracy: 1.0000 - loss: 1.4065e-05 - val_accuracy: 0.9989 - val_loss: 0.0055\n",
      "Epoch 10/10\n",
      "\u001b[1m116/116\u001b[0m \u001b[32m━━━━━━━━━━━━━━━━━━━━\u001b[0m\u001b[37m\u001b[0m \u001b[1m5s\u001b[0m 44ms/step - accuracy: 1.0000 - loss: 1.2928e-05 - val_accuracy: 0.9989 - val_loss: 0.0057\n"
     ]
    },
    {
     "data": {
      "text/plain": [
       "<keras.src.callbacks.history.History at 0x282b90374c0>"
      ]
     },
     "execution_count": 26,
     "metadata": {},
     "output_type": "execute_result"
    }
   ],
   "source": [
    "X_train = np.clip(X_train, 0, 2000 - 1) \n",
    "X_test = np.clip(X_test, 0, 2000 - 1)\n",
    "model.fit(X_train, y_train, epochs=10, batch_size=32, validation_data=(X_test, y_test))\n"
   ]
  },
  {
   "cell_type": "markdown",
   "metadata": {},
   "source": [
    "## Accuracy Score"
   ]
  },
  {
   "cell_type": "code",
   "execution_count": 27,
   "metadata": {},
   "outputs": [
    {
     "name": "stdout",
     "output_type": "stream",
     "text": [
      "\u001b[1m29/29\u001b[0m \u001b[32m━━━━━━━━━━━━━━━━━━━━\u001b[0m\u001b[37m\u001b[0m \u001b[1m1s\u001b[0m 18ms/step - accuracy: 0.9997 - loss: 0.0015   \n",
      "Test Loss: 0.005739150103181601\n",
      "Test Accuracy: 0.9989177584648132\n"
     ]
    }
   ],
   "source": [
    "test_loss,test_acc=model.evaluate(X_test,y_test)\n",
    "print(f\"Test Loss: {test_loss}\")\n",
    "print(f\"Test Accuracy: {test_acc}\")"
   ]
  },
  {
   "cell_type": "markdown",
   "metadata": {},
   "source": [
    "## Checking Accuracy using Confusion Matrix "
   ]
  },
  {
   "cell_type": "code",
   "execution_count": 28,
   "metadata": {},
   "outputs": [
    {
     "name": "stdout",
     "output_type": "stream",
     "text": [
      "\u001b[1m29/29\u001b[0m \u001b[32m━━━━━━━━━━━━━━━━━━━━\u001b[0m\u001b[37m\u001b[0m \u001b[1m1s\u001b[0m 19ms/step\n"
     ]
    },
    {
     "data": {
      "image/png": "[encoded data removed]",
      "text/plain": [
       "<Figure size 800x600 with 2 Axes>"
      ]
     },
     "metadata": {},
     "output_type": "display_data"
    }
   ],
   "source": [
    "from sklearn.metrics import confusion_matrix\n",
    "import seaborn as sns\n",
    "import matplotlib.pyplot as plt\n",
    "y_pred = model.predict(X_test)\n",
    "y_pred_labels = y_pred.argmax(axis=1)\n",
    "y_test_labels = y_test.argmax(axis=1)\n",
    "conf_matrix = confusion_matrix(y_test_labels, y_pred_labels)\n",
    "plt.figure(figsize=(8, 6))\n",
    "sns.heatmap(conf_matrix, annot=True, fmt='d', cmap='Blues', xticklabels=['1','2','3','4','5'], yticklabels=['1','2','3','4','5'])\n",
    "plt.title('Confusion Matrix')\n",
    "plt.xlabel('Predicted')\n",
    "plt.ylabel('True')\n",
    "plt.show()"
   ]
  },
  {
   "cell_type": "code",
   "execution_count": 29,
   "metadata": {},
   "outputs": [
    {
     "name": "stdout",
     "output_type": "stream",
     "text": [
      "[[9.9999940e-01 6.1695249e-07 5.8737321e-11 2.4382389e-09 7.2366196e-11]\n",
      " [5.1269872e-13 5.5110142e-11 8.5612046e-06 3.2852599e-06 9.9998808e-01]\n",
      " [9.9999893e-01 1.0289602e-06 6.1297460e-11 3.6605634e-09 7.7689112e-11]\n",
      " ...\n",
      " [1.4459856e-05 9.9996877e-01 5.1153911e-06 1.1692451e-05 1.7025382e-09]\n",
      " [8.0093940e-08 5.6601425e-06 3.6861923e-06 9.9998391e-01 6.6899411e-06]\n",
      " [9.9999976e-01 2.6127080e-07 1.5098986e-11 9.9870667e-10 1.9616654e-11]]\n"
     ]
    }
   ],
   "source": [
    "print(y_pred)"
   ]
  },
  {
   "cell_type": "markdown",
   "metadata": {},
   "source": [
    "## REPORT"
   ]
  },
  {
   "cell_type": "code",
   "execution_count": 30,
   "metadata": {},
   "outputs": [
    {
     "name": "stdout",
     "output_type": "stream",
     "text": [
      "Classification Report:\n",
      "              precision    recall  f1-score   support\n",
      "\n",
      "           0       1.00      1.00      1.00       656\n",
      "           1       1.00      1.00      1.00        59\n",
      "           2       1.00      1.00      1.00        36\n",
      "           3       1.00      1.00      1.00        54\n",
      "           4       0.99      1.00      1.00       119\n",
      "\n",
      "    accuracy                           1.00       924\n",
      "   macro avg       1.00      1.00      1.00       924\n",
      "weighted avg       1.00      1.00      1.00       924\n",
      "\n"
     ]
    }
   ],
   "source": [
    "from sklearn.metrics import classification_report\n",
    "\n",
    "# Get the classification report\n",
    "class_report = classification_report(y_test_labels, y_pred_labels)\n",
    "print(\"Classification Report:\")\n",
    "print(class_report)"
   ]
  },
  {
   "cell_type": "markdown",
   "metadata": {},
   "source": [
    "## Conclusion  \n",
    "\n",
    "The results of the sentiment classification model indicate exceptionally high accuracy, with precision, recall, and F1-scores achieving nearly perfect values across all sentiment categories. This demonstrates the model's effectiveness in distinguishing between different sentiment classes and correctly classifying user reviews.  \n",
    "\n",
    "### Key Findings:  \n",
    "- The model exhibits strong performance across all sentiment categories, ensuring a high level of reliability in analyzing customer feedback.  \n",
    "- With minimal misclassification, the model accurately captures customer sentiment, providing a clear understanding of user experiences.  \n",
    "- The analysis offers valuable insights into customer dissatisfaction and areas for improvement for platforms like BlinkIt, Zepto, and JioMart.  \n",
    "- These insights can be leveraged to enhance customer satisfaction, optimize service quality, and address key operational challenges.  \n",
    "\n",
    "### Recommendations for Further Improvement:  \n",
    "- **Evaluate Overfitting**: The high accuracy suggests the need for additional validation on unseen data to ensure generalizability.  \n",
    "- **Model Optimization**: Implementing regularization techniques or reducing model complexity could help mitigate potential overfitting.  \n",
    "- **Expand Dataset**: Incorporating a more diverse and extensive dataset can improve the model's ability to generalize across different review patterns.  \n",
    "- **Deeper Sentiment Insights**: Using advanced techniques such as topic modeling or aspect-based sentiment analysis can help extract more detailed insights into specific customer concerns.  \n",
    "\n",
    "This study provides a comprehensive understanding of user sentiment, offering a data-driven approach to improving service quality and user experience in the quick commerce sector.\n"
   ]
  }
 ],
 "metadata": {
  "kernelspec": {
   "display_name": "base",
   "language": "python",
   "name": "python3"
  },
  "language_info": {
   "codemirror_mode": {
    "name": "ipython",
    "version": 3
   },
   "file_extension": ".py",
   "mimetype": "text/x-python",
   "name": "python",
   "nbconvert_exporter": "python",
   "pygments_lexer": "ipython3",
   "version": "3.10.16"
  }
 },
 "nbformat": 4,
 "nbformat_minor": 2
}
